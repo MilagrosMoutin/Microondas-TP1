{
 "cells": [
  {
   "cell_type": "code",
   "execution_count": 33,
   "metadata": {
    "collapsed": true,
    "pycharm": {
     "name": "#%%\n"
    }
   },
   "outputs": [],
   "source": [
    "import math\n",
    "import numpy as np\n",
    "\n",
    "pnm_prima = [[None, None, None, None, None, None],\n",
    "             [3.832, 1.841, 3.054, 4.201, 5.317, 6.416],\n",
    "             [7.016, 5.331, 6.706, 8.015, 9.282, 10.520],\n",
    "             [10.174, 8.536, 9.970, 11.346, 12.682, 13.987],\n",
    "             [13.324, 11.706, 13.170, 14.586, 15.964, 17.313] ]\n",
    "pnm      = [[None, None, None, None, None, None],\n",
    "             [2.405, 3.832, 5.136, 6.380, 7.588, 8.772],\n",
    "             [5.520, 7.016, 8.417, 9.761, 11.065, 12.339],\n",
    "             [8.654, 10.174, 11.620, 13.015, 14.373, 15.700],\n",
    "             [11.792, 13.324, 14.796, 16.224, 17.616, 18.980] ]\n",
    "pnm_prima = np.transpose(pnm_prima)\n",
    "pnm = np.transpose(pnm)\n",
    "c = 3*1e8 #m/s\n",
    "er = 1\n",
    "v = c / math.sqrt(er)\n",
    "eta = 120*math.pi\n",
    "sigma = 59.6*1e6 #S/m"
   ]
  },
  {
   "cell_type": "code",
   "execution_count": 34,
   "outputs": [],
   "source": [
    "f = 2 #GHz"
   ],
   "metadata": {
    "collapsed": false,
    "pycharm": {
     "name": "#%%\n"
    }
   }
  },
  {
   "cell_type": "markdown",
   "source": [
    "Siendo que la frecuencia de corte más chica viene dada por el modo $TE_{11}$ se despeja el valor mínimo del radio de la guía reemplazando por la frecuencia de trabajo."
   ],
   "metadata": {
    "collapsed": false,
    "pycharm": {
     "name": "#%% md\n"
    }
   }
  },
  {
   "cell_type": "code",
   "execution_count": 35,
   "outputs": [
    {
     "name": "stdout",
     "output_type": "stream",
     "text": [
      "a_min = 4.4 cm\n"
     ]
    }
   ],
   "source": [
    "a_min = 1.841*v / (2*math.pi*f*1e9)\n",
    "print(\"a_min = {} cm\".format(round(a_min*1e2,2)))"
   ],
   "metadata": {
    "collapsed": false,
    "pycharm": {
     "name": "#%%\n"
    }
   }
  },
  {
   "cell_type": "code",
   "execution_count": 36,
   "outputs": [
    {
     "name": "stdout",
     "output_type": "stream",
     "text": [
      "a_max = 5.74 cm\n"
     ]
    }
   ],
   "source": [
    "a_max = 2.405*v / (2*math.pi*f*1e9)\n",
    "print(\"a_max = {} cm\".format(round(a_max*1e2,2)))"
   ],
   "metadata": {
    "collapsed": false,
    "pycharm": {
     "name": "#%%\n"
    }
   }
  },
  {
   "cell_type": "code",
   "execution_count": 37,
   "outputs": [
    {
     "name": "stdout",
     "output_type": "stream",
     "text": [
      "5.068289162761407\n"
     ]
    }
   ],
   "source": [
    "a = (a_min + a_max)/2\n",
    "print(a*1e2)"
   ],
   "metadata": {
    "collapsed": false,
    "pycharm": {
     "name": "#%%\n"
    }
   }
  },
  {
   "cell_type": "code",
   "execution_count": 38,
   "outputs": [],
   "source": [
    "fc_TE = lambda n, m, a: v*pnm_prima[n,m] / (2*math.pi*a)\n",
    "fc_TM = lambda n, m, a: v*pnm[n,m] / (2*math.pi*a)"
   ],
   "metadata": {
    "collapsed": false,
    "pycharm": {
     "name": "#%%\n"
    }
   }
  },
  {
   "cell_type": "code",
   "execution_count": 39,
   "outputs": [
    {
     "name": "stdout",
     "output_type": "stream",
     "text": [
      "El modo dominante es el TE11 con una fc = 1.73GHz\n",
      "El siguiente modo es el TM01 con una fc = 2.27GHz\n",
      "El siguiente modo es el TE21 con una fc = 2.88GHz\n"
     ]
    }
   ],
   "source": [
    "frec = []\n",
    "for n in range(0, 4):\n",
    "    for m in range(1, 4):\n",
    "        if not (n == 0 and m == 0):\n",
    "            frec.append((n, m, \"TE\", round(fc_TE(n, m, a) * 1e-9, 2)))\n",
    "for n in range(0, 4):\n",
    "    for m in range(1, 4):\n",
    "        frec.append((n, m, \"TM\", round(fc_TM(n, m, a) * 1e-9, 2)))\n",
    "frec = sorted(frec, key=lambda x: x[3], reverse=False)\n",
    "print(\"El modo dominante es el {}{}{} con una fc = {}GHz\".format(frec[0][2], frec[0][0], frec[0][1], frec[0][3]))\n",
    "print(\"El siguiente modo es el {}{}{} con una fc = {}GHz\".format(frec[1][2], frec[1][0], frec[1][1], frec[1][3]))\n",
    "print(\"El siguiente modo es el {}{}{} con una fc = {}GHz\".format(frec[2][2], frec[2][0], frec[2][1], frec[2][3]))\n"
   ],
   "metadata": {
    "collapsed": false,
    "pycharm": {
     "name": "#%%\n"
    }
   }
  },
  {
   "cell_type": "code",
   "execution_count": 40,
   "outputs": [
    {
     "name": "stdout",
     "output_type": "stream",
     "text": [
      "k = 41.9/m, eta = 377.0 Ohms, beta = 21.0 m Rs = 0.0115099 Ohms, beta = 21.018/m, lambda_g = 0.299 m, vp = 597881275.556 m/s , vg = 150531558.15 m/s, ZTE = 751.32 Ohms\n",
      "alpha_c = 0.0012005297603258902 Np/m\n"
     ]
    }
   ],
   "source": [
    "fc = frec[0][3]\n",
    "k = math.sqrt(er)*2*math.pi*f*1e9/v\n",
    "beta = k*math.sqrt(1 - (fc/f)**2)\n",
    "lambda_g = 2*math.pi/beta\n",
    "vp = 2*math.pi*f*1e9/beta\n",
    "vg = (v**2)/vp\n",
    "ZTE = k*eta/beta\n",
    "eta = 120*math.pi/math.sqrt(er)\n",
    "Rs = math.sqrt(2*math.pi*f*1e9*4*math.pi*1e-7/(2*sigma))\n",
    "alpha_c = Rs*k / (a*eta*beta)\n",
    "print(\"k = {}/m, eta = {} Ohms, beta = {} m Rs = {} Ohms, beta = {}/m, lambda_g = {} m, vp = {} m/s , vg = {} m/s, ZTE = {} Ohms\".format(round(k,1), round(eta,1), round(beta,1), round(Rs, 7), round(beta,3), round(lambda_g, 3), round(vp,3), round((v**2)/vp,2), round(ZTE,2)))\n",
    "print(\"alpha_c = {} Np/m\".format(alpha_c))"
   ],
   "metadata": {
    "collapsed": false,
    "pycharm": {
     "name": "#%%\n"
    }
   }
  }
 ],
 "metadata": {
  "kernelspec": {
   "display_name": "Python 3",
   "language": "python",
   "name": "python3"
  },
  "language_info": {
   "codemirror_mode": {
    "name": "ipython",
    "version": 2
   },
   "file_extension": ".py",
   "mimetype": "text/x-python",
   "name": "python",
   "nbconvert_exporter": "python",
   "pygments_lexer": "ipython2",
   "version": "2.7.6"
  }
 },
 "nbformat": 4,
 "nbformat_minor": 0
}