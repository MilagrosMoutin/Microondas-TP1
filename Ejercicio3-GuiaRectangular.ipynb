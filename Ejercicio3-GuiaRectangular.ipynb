{
 "cells": [
  {
   "cell_type": "code",
   "execution_count": 23,
   "metadata": {
    "collapsed": true,
    "pycharm": {
     "name": "#%%\n"
    }
   },
   "outputs": [],
   "source": [
    "import math"
   ]
  },
  {
   "cell_type": "markdown",
   "source": [
    "Datos de problema:"
   ],
   "metadata": {
    "collapsed": false,
    "pycharm": {
     "name": "#%% md\n"
    }
   }
  },
  {
   "cell_type": "code",
   "execution_count": 24,
   "outputs": [],
   "source": [
    "f = 2 #GHz\n",
    "w = 2*math.pi*f*1e9 #rad/s\n",
    "sigma = 59.6*1e6 #S/m\n",
    "c = 3*1e8\n",
    "er = 1\n",
    "eta = 120*math.pi/math.sqrt(er)\n",
    "v = 3*1e8/math.sqrt(er)\n",
    "mu = 4*math.pi*1e-7 #Hy/m"
   ],
   "metadata": {
    "collapsed": false,
    "pycharm": {
     "name": "#%%\n"
    }
   }
  },
  {
   "cell_type": "code",
   "execution_count": 25,
   "outputs": [
    {
     "name": "stdout",
     "output_type": "stream",
     "text": [
      "a_min = 7.5 cm\n"
     ]
    }
   ],
   "source": [
    "a_min = v/(2*f*1e9)\n",
    "print(\"a_min = {} cm\".format(round(a_min*1e2,8)))"
   ],
   "metadata": {
    "collapsed": false,
    "pycharm": {
     "name": "#%%\n"
    }
   }
  },
  {
   "cell_type": "code",
   "execution_count": 26,
   "outputs": [
    {
     "name": "stdout",
     "output_type": "stream",
     "text": [
      "a_max = 15.0 cm\n"
     ]
    }
   ],
   "source": [
    "a_max = v/(f*1e9)\n",
    "print(\"a_max = {} cm\".format(round(a_max*1e2,8)))"
   ],
   "metadata": {
    "collapsed": false,
    "pycharm": {
     "name": "#%%\n"
    }
   }
  },
  {
   "cell_type": "code",
   "execution_count": 27,
   "outputs": [
    {
     "name": "stdout",
     "output_type": "stream",
     "text": [
      "b_min = 7.5 cm\n"
     ]
    }
   ],
   "source": [
    "b_max = v/(2*f*1e9)\n",
    "print(\"b_min = {} cm\".format(round(b_max*1e2, 8)))"
   ],
   "metadata": {
    "collapsed": false,
    "pycharm": {
     "name": "#%%\n"
    }
   }
  },
  {
   "cell_type": "markdown",
   "source": [
    "Las dos opciones posibles son WR510 y WR430.\n"
   ],
   "metadata": {
    "collapsed": false,
    "pycharm": {
     "name": "#%% md\n"
    }
   }
  },
  {
   "cell_type": "markdown",
   "source": [
    "## Para WR510: a = 129,54 mm b = 64,7 mm"
   ],
   "metadata": {
    "collapsed": false,
    "pycharm": {
     "name": "#%% md\n"
    }
   }
  },
  {
   "cell_type": "code",
   "execution_count": 28,
   "outputs": [],
   "source": [
    "a = 129.54*1e-3\n",
    "b = 64.7*1e-3"
   ],
   "metadata": {
    "collapsed": false,
    "pycharm": {
     "name": "#%%\n"
    }
   }
  },
  {
   "cell_type": "code",
   "execution_count": 29,
   "outputs": [
    {
     "name": "stdout",
     "output_type": "stream",
     "text": [
      "El modo dominante es el TE10 con una fc = 1.16GHz\n",
      "El siguiente modo es el TE20 con una fc = 2.32GHz\n",
      "El siguiente modo es el TE01 con una fc = 2.32GHz\n"
     ]
    }
   ],
   "source": [
    "fc_TE = lambda m, n, a, b: (v / (2 * math.pi)) * math.sqrt((m * math.pi / a) ** 2 + (n * math.pi / b) ** 2) #con a y b en mm\n",
    "fc_TM = lambda m, n, a, b: (v / (2 * math.pi)) * math.sqrt((m * math.pi / a) ** 2 + (n * math.pi / b) ** 2) #con a y b en mm\n",
    "frec = []\n",
    "for n in range(0, 4):\n",
    "    for m in range(0, 4):\n",
    "        if not (n == 0 and m == 0):\n",
    "            frec.append((m, n, \"TE\", round(fc_TE(m, n, a, b) * 1e-9, 2)))\n",
    "for n in range(1, 4):\n",
    "    for m in range(1, 4):\n",
    "        frec.append((m, n, \"TM\", round(fc_TM(m, n, a, b) * 1e-9, 2)))\n",
    "frec = sorted(frec, key=lambda x: x[3], reverse=False)\n",
    "print(\"El modo dominante es el {}{}{} con una fc = {}GHz\".format(frec[0][2], frec[0][0], frec[0][1], frec[0][3]))\n",
    "print(\"El siguiente modo es el {}{}{} con una fc = {}GHz\".format(frec[1][2], frec[1][0], frec[1][1], frec[1][3]))\n",
    "print(\"El siguiente modo es el {}{}{} con una fc = {}GHz\".format(frec[2][2], frec[2][0], frec[2][1], frec[2][3]))"
   ],
   "metadata": {
    "collapsed": false,
    "pycharm": {
     "name": "#%%\n"
    }
   }
  },
  {
   "cell_type": "markdown",
   "source": [
    "Buscamos las expresiones del modo dominante a la frecuencia de trabajo:\n",
    "$k = \\sqrt{\\varepsilon_r}\\frac{2\\pi f}{v}$\n",
    "$\\beta = k\\cdot \\sqrt{1 - \\frac{f_c}{f}^2}$\n",
    "$R_s = \\sqrt{\\frac{\\omega \\mu}{2 \\sigma}}$\n",
    "$k_c = \\frac{\\pi}{a}$\n",
    "$\\alpha _c = \\frac{R_s}{k \\beta \\eta}\\left( \\frac{2\\pi^2}{a^3} + \\frac{k^2}{b}\\right)$"
   ],
   "metadata": {
    "collapsed": false,
    "pycharm": {
     "name": "#%% md\n"
    }
   }
  },
  {
   "cell_type": "code",
   "execution_count": 30,
   "outputs": [
    {
     "name": "stdout",
     "output_type": "stream",
     "text": [
      "k = 41.9/m, eta = 377.0 Ohms, beta = 34.1 m Rs = 0.0115099 Ohms\n",
      "alpha_c = 0.000773 Np/m\n"
     ]
    }
   ],
   "source": [
    "fc = frec[0][3]\n",
    "k = math.sqrt(er)*2*math.pi*f*1e9/v\n",
    "beta = k*math.sqrt(1 - (fc/f)**2)\n",
    "lambda_g = 2*math.pi/beta\n",
    "vp = 2*math.pi*f*1e9/beta\n",
    "vg = (v**2)/vp\n",
    "ZTE = k*eta/beta\n",
    "eta = 120*math.pi/math.sqrt(er)\n",
    "Rs = math.sqrt(w*mu/(2*sigma))\n",
    "alpha_c = (Rs/(k*beta*eta))*((2 * (math.pi)** 2 / (a ** 3)) + ((k ** 2) / b))\n",
    "print(\"k = {}/m, eta = {} Ohms, beta = {} m Rs = {} Ohms\".format(round(k,1), round(eta,1), round(beta,1), round(Rs, 7)))\n",
    "print(\"alpha_c = {} Np/m\".format(round(alpha_c,6)))"
   ],
   "metadata": {
    "collapsed": false,
    "pycharm": {
     "name": "#%%\n"
    }
   }
  },
  {
   "cell_type": "markdown",
   "source": [
    "## Para WR430: a = 109,22 mm b = 54,61 mm"
   ],
   "metadata": {
    "collapsed": false,
    "pycharm": {
     "name": "#%% md\n"
    }
   }
  },
  {
   "cell_type": "code",
   "execution_count": 31,
   "outputs": [],
   "source": [
    "a = 109.22*1e-3\n",
    "b = 54.61*1e-3"
   ],
   "metadata": {
    "collapsed": false,
    "pycharm": {
     "name": "#%%\n"
    }
   }
  },
  {
   "cell_type": "code",
   "execution_count": 32,
   "outputs": [
    {
     "name": "stdout",
     "output_type": "stream",
     "text": [
      "El modo dominante es el TE10 con una fc = 1.37GHz\n",
      "El siguiente modo es el TE20 con una fc = 2.75GHz\n",
      "El siguiente modo es el TE01 con una fc = 2.75GHz\n"
     ]
    }
   ],
   "source": [
    "frec = []\n",
    "for n in range(0, 4):\n",
    "    for m in range(0, 4):\n",
    "        if not (n == 0 and m == 0):\n",
    "            frec.append((m, n, \"TE\", round(fc_TE(m, n, a, b) * 1e-9, 2)))\n",
    "for n in range(1, 4):\n",
    "    for m in range(1, 4):\n",
    "        frec.append((m, n, \"TM\", round(fc_TM(m, n, a, b) * 1e-9, 2)))\n",
    "frec = sorted(frec, key=lambda x: x[3], reverse=False)\n",
    "print(\"El modo dominante es el {}{}{} con una fc = {}GHz\".format(frec[0][2], frec[0][0], frec[0][1], frec[0][3]))\n",
    "print(\"El siguiente modo es el {}{}{} con una fc = {}GHz\".format(frec[1][2], frec[1][0], frec[1][1], frec[1][3]))\n",
    "print(\"El siguiente modo es el {}{}{} con una fc = {}GHz\".format(frec[2][2], frec[2][0], frec[2][1], frec[2][3]))"
   ],
   "metadata": {
    "collapsed": false,
    "pycharm": {
     "name": "#%%\n"
    }
   }
  },
  {
   "cell_type": "code",
   "execution_count": 33,
   "outputs": [
    {
     "name": "stdout",
     "output_type": "stream",
     "text": [
      "k = 41.9/m, eta = 377.0 Ohms, beta = 30.5 m Rs = 0.0115099 Ohms, beta = 30.517/m, lambda_g = 0.206 m, vp = 411780735.721 m/s , vg = 218562920.0 m/s, ZTE = 517.46 Ohms\n",
      "alpha_c = 0.001129 Np/m\n"
     ]
    }
   ],
   "source": [
    "fc = frec[0][3]\n",
    "k = math.sqrt(er)*2*math.pi*f*1e9/v\n",
    "beta = k*math.sqrt(1 - (fc/f)**2)\n",
    "lambda_g = 2*math.pi/beta\n",
    "vp = 2*math.pi*f*1e9/beta\n",
    "vg = (v**2)/vp\n",
    "ZTE = k*eta/beta\n",
    "eta = 120*math.pi/math.sqrt(er)\n",
    "Rs = math.sqrt(w*mu/(2*sigma))\n",
    "alpha_c = (Rs/(k*beta*eta))*((2 * (math.pi)** 2 / (a ** 3)) + ((k ** 2) / b))\n",
    "print(\"k = {}/m, eta = {} Ohms, beta = {} m Rs = {} Ohms, beta = {}/m, lambda_g = {} m, vp = {} m/s , vg = {} m/s, ZTE = {} Ohms\".format(round(k,1), round(eta,1), round(beta,1), round(Rs, 7), round(beta,3), round(lambda_g, 3), round(vp,3), round((v**2)/vp,2), round(ZTE,2)))\n",
    "print(\"alpha_c = {} Np/m\".format(round(alpha_c,6)))"
   ],
   "metadata": {
    "collapsed": false,
    "pycharm": {
     "name": "#%%\n"
    }
   }
  }
 ],
 "metadata": {
  "kernelspec": {
   "display_name": "Python 3",
   "language": "python",
   "name": "python3"
  },
  "language_info": {
   "codemirror_mode": {
    "name": "ipython",
    "version": 2
   },
   "file_extension": ".py",
   "mimetype": "text/x-python",
   "name": "python",
   "nbconvert_exporter": "python",
   "pygments_lexer": "ipython2",
   "version": "2.7.6"
  }
 },
 "nbformat": 4,
 "nbformat_minor": 0
}