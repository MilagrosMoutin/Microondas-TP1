{
 "cells": [
  {
   "cell_type": "code",
   "execution_count": 120,
   "outputs": [],
   "source": [
    "import math\n",
    "import numpy as np"
   ],
   "metadata": {
    "collapsed": false,
    "pycharm": {
     "name": "#%%\n"
    }
   }
  },
  {
   "cell_type": "markdown",
   "source": [
    "La potencia entregada a la carga resulta:\n",
    "$P = \\frac{1}{2}\\textbf{Re}\\{V_{in}\\cdot I_{in}^{*}\\} = \\frac{|V_g|^2}{2} \\cdot \\frac{R_{in}}{(R_{in}+R_g)^2 + (X_{in}+X_g)^2}$\n",
    "donde $Z_{in} = R_{in} + X_{in}\\cdot j$ y $Z_{g} = R_{g} + X_{g}\\cdot j$\n",
    "A su vez, $Z_{in}$ es la impedancia de entrada vista por el generador y se calcula de la siguiente forma:\n",
    "$Z_{in} = Z_o \\frac{Z_L + j\\cdot Zo \\cdot tan(\\beta l)}{Z_o + j\\cdot Z_L \\cdot tan(\\beta l)}$"
   ],
   "metadata": {
    "collapsed": false,
    "pycharm": {
     "name": "#%% md\n"
    }
   }
  },
  {
   "cell_type": "markdown",
   "source": [
    "Datos del problema:"
   ],
   "metadata": {
    "collapsed": false,
    "pycharm": {
     "name": "#%% md\n"
    }
   }
  },
  {
   "cell_type": "code",
   "execution_count": 121,
   "outputs": [],
   "source": [
    "Vg = 2 #V\n",
    "Zo = 50 #Ohms\n",
    "f = 1e9 #Hz\n",
    "c = 3*1e8 #m/s\n",
    "l = 1 #m"
   ],
   "metadata": {
    "collapsed": false,
    "pycharm": {
     "name": "#%%\n"
    }
   }
  },
  {
   "cell_type": "markdown",
   "source": [
    "Los pares de cargas a probar son los siguiente:\n",
    "Z =  $ [ [Z_g , Z_L], ... ]$"
   ],
   "metadata": {
    "collapsed": false,
    "pycharm": {
     "name": "#%% md\n"
    }
   }
  },
  {
   "cell_type": "code",
   "execution_count": 122,
   "metadata": {
    "collapsed": true,
    "pycharm": {
     "name": "#%%\n"
    }
   },
   "outputs": [],
   "source": [
    "Z = []\n",
    "Z.append([60-10j,100+25j])\n",
    "Z.append([60-10j,50])\n",
    "Z.append([50,75-20j])\n",
    "Z.append([50,50])"
   ]
  },
  {
   "cell_type": "code",
   "execution_count": 123,
   "outputs": [
    {
     "name": "stdout",
     "output_type": "stream",
     "text": [
      "beta = 20.94\n",
      "beta*l = 20.94\n",
      "tan(beta*l) = -1.7320508075688759\n"
     ]
    }
   ],
   "source": [
    "beta = 2*math.pi/(c/f)\n",
    "print(\"beta = {}\".format(round(beta,2)))\n",
    "print(\"beta*l = {}\".format(round(beta*l,2)))\n",
    "tan_ = np.tan(beta*l)\n",
    "print(\"tan(beta*l) = {}\".format(np.tan(beta*l)))"
   ],
   "metadata": {
    "collapsed": false,
    "pycharm": {
     "name": "#%%\n"
    }
   }
  },
  {
   "cell_type": "code",
   "execution_count": 124,
   "outputs": [],
   "source": [
    "Zin = lambda ZL : Zo*(ZL + 1j*Zo*tan_)/(Zo + 1j*ZL*tan_)\n",
    "P = lambda Zin, Zg: (Vg**2 / 2) * Zin.real / ( (Zin.real + Zg.real)**2 + (Zin.imag + Zg.imag)**2 )"
   ],
   "metadata": {
    "collapsed": false,
    "pycharm": {
     "name": "#%%\n"
    }
   }
  },
  {
   "cell_type": "markdown",
   "source": [
    "Agrego:\n",
    "$Z = [ [Z_{g}, Z_{L}, Z_{in}, P [mW]] ... ] $"
   ],
   "metadata": {
    "collapsed": false,
    "pycharm": {
     "name": "#%% md\n"
    }
   }
  },
  {
   "cell_type": "code",
   "execution_count": 125,
   "outputs": [
    {
     "name": "stdout",
     "output_type": "stream",
     "text": [
      "[(60-10j), (100+25j), (25.836370450641315+14.950103129540649j), 6.9899949501398195]\n",
      "[(60-10j), 50, (50.00000000000001-0j), 8.196721311475411]\n",
      "[50, (75-20j), (43.831713749379404+23.68513597115126j), 9.360374414976599]\n",
      "[50, 50, (50.00000000000001-0j), 10.000000000000002]\n"
     ]
    }
   ],
   "source": [
    "for ZL in Z:\n",
    "    ZL.append(Zin(ZL[1]))\n",
    "for z in Z:\n",
    "    z.append(P(z[2],z[0])*1e3)\n",
    "    print(z)\n"
   ],
   "metadata": {
    "collapsed": false,
    "pycharm": {
     "name": "#%%\n"
    }
   }
  }
 ],
 "metadata": {
  "kernelspec": {
   "display_name": "Python 3",
   "language": "python",
   "name": "python3"
  },
  "language_info": {
   "codemirror_mode": {
    "name": "ipython",
    "version": 2
   },
   "file_extension": ".py",
   "mimetype": "text/x-python",
   "name": "python",
   "nbconvert_exporter": "python",
   "pygments_lexer": "ipython2",
   "version": "2.7.6"
  }
 },
 "nbformat": 4,
 "nbformat_minor": 0
}