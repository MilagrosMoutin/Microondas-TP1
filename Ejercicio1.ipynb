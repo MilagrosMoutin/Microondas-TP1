{
 "cells": [
  {
   "cell_type": "code",
   "execution_count": 160,
   "outputs": [],
   "source": [
    "import math"
   ],
   "metadata": {
    "collapsed": false,
    "pycharm": {
     "name": "#%%\n"
    }
   }
  },
  {
   "cell_type": "code",
   "execution_count": 161,
   "metadata": {
    "collapsed": true,
    "pycharm": {
     "name": "#%%\n"
    }
   },
   "outputs": [
    {
     "name": "stdout",
     "output_type": "stream",
     "text": [
      "alpha = 0.002302025782688766 Np/m\n"
     ]
    }
   ],
   "source": [
    "f = 1e9 #Hz\n",
    "Zo = 50 #Ohm\n",
    "alpha = 0.02 #dB/m\n",
    "beta = 31.4 #rad/s\n",
    "W = 2*math.pi*f\n",
    "print(\"alpha = {} Np/m\".format(alpha/8.688))"
   ]
  },
  {
   "cell_type": "code",
   "execution_count": 162,
   "outputs": [
    {
     "name": "stdout",
     "output_type": "stream",
     "text": [
      "R = 0.11510128913443829 Ohm\n"
     ]
    }
   ],
   "source": [
    "R = (alpha/8.688)*Zo\n",
    "print(\"R = {} Ohm\".format(R))"
   ],
   "metadata": {
    "collapsed": false,
    "pycharm": {
     "name": "#%%\n"
    }
   }
  },
  {
   "cell_type": "code",
   "execution_count": 163,
   "outputs": [
    {
     "name": "stdout",
     "output_type": "stream",
     "text": [
      "C = 99.94930426171027 nF\n"
     ]
    }
   ],
   "source": [
    "C = beta / (Zo*2*math.pi*f)\n",
    "print(\"C = {} nF\".format(C*1e12))"
   ],
   "metadata": {
    "collapsed": false,
    "pycharm": {
     "name": "#%%\n"
    }
   }
  },
  {
   "cell_type": "code",
   "execution_count": 164,
   "outputs": [
    {
     "name": "stdout",
     "output_type": "stream",
     "text": [
      "L = 249.87326065427564 nH\n"
     ]
    }
   ],
   "source": [
    "L = C*Zo**2\n",
    "print(\"L = {} nH\".format(L*1e9))"
   ],
   "metadata": {
    "collapsed": false,
    "pycharm": {
     "name": "#%%\n"
    }
   }
  },
  {
   "cell_type": "code",
   "execution_count": 165,
   "outputs": [
    {
     "name": "stdout",
     "output_type": "stream",
     "text": [
      "G = 4.6040515653775314e-05/Ohm\n"
     ]
    }
   ],
   "source": [
    "G = R/(Zo**2)\n",
    "print(\"G = {}/Ohm\".format(G))"
   ],
   "metadata": {
    "collapsed": false,
    "pycharm": {
     "name": "#%%\n"
    }
   }
  },
  {
   "cell_type": "code",
   "execution_count": 166,
   "outputs": [
    {
     "name": "stdout",
     "output_type": "stream",
     "text": [
      "49.99999999999999\n",
      "50.0\n"
     ]
    }
   ],
   "source": [
    "print(math.sqrt(L/C))\n",
    "print(math.sqrt(R/G))"
   ],
   "metadata": {
    "collapsed": false,
    "pycharm": {
     "name": "#%%\n"
    }
   }
  },
  {
   "cell_type": "markdown",
   "source": [
    "Chequeo que los valores de $\\alpha$ y $\\beta$ estén bien:"
   ],
   "metadata": {
    "collapsed": false,
    "pycharm": {
     "name": "#%% md\n"
    }
   }
  },
  {
   "cell_type": "code",
   "execution_count": 167,
   "outputs": [
    {
     "name": "stdout",
     "output_type": "stream",
     "text": [
      "alfa = 31.4 rad/s\n"
     ]
    }
   ],
   "source": [
    "print(\"alfa = {} rad/s\".format(round(2*math.pi*f*math.sqrt(L*C),1)))"
   ],
   "metadata": {
    "collapsed": false,
    "pycharm": {
     "name": "#%%\n"
    }
   }
  },
  {
   "cell_type": "code",
   "execution_count": 168,
   "outputs": [
    {
     "name": "stdout",
     "output_type": "stream",
     "text": [
      "beta = 0.002302025782688766 Np/m\n"
     ]
    }
   ],
   "source": [
    "print(\"beta = {} Np/m\".format((beta/2)*((R/(W*L))+(G/(W*C)))))"
   ],
   "metadata": {
    "collapsed": false,
    "pycharm": {
     "name": "#%%\n"
    }
   }
  },
  {
   "cell_type": "code",
   "execution_count": 169,
   "outputs": [
    {
     "name": "stdout",
     "output_type": "stream",
     "text": [
      "Coeficiente de reflexión en la carga = 0.231 \n"
     ]
    }
   ],
   "source": [
    "ZL = 80\n",
    "r = (ZL-Zo)/(ZL+Zo)\n",
    "print(\"Coeficiente de reflexión en la carga = {} \".format(round(r,3)))"
   ],
   "metadata": {
    "collapsed": false,
    "pycharm": {
     "name": "#%%\n"
    }
   }
  },
  {
   "cell_type": "code",
   "execution_count": 170,
   "outputs": [
    {
     "name": "stdout",
     "output_type": "stream",
     "text": [
      "Perdida de retorno = 29.33 dB\n"
     ]
    }
   ],
   "source": [
    "RL = -20*math.log(math.fabs(r))\n",
    "print(\"Perdida de retorno = {} dB\".format(round(RL,2)))"
   ],
   "metadata": {
    "collapsed": false,
    "pycharm": {
     "name": "#%%\n"
    }
   }
  },
  {
   "cell_type": "markdown",
   "source": [],
   "metadata": {
    "collapsed": false,
    "pycharm": {
     "name": "#%% md\n"
    }
   }
  }
 ],
 "metadata": {
  "kernelspec": {
   "display_name": "Python 3",
   "language": "python",
   "name": "python3"
  },
  "language_info": {
   "codemirror_mode": {
    "name": "ipython",
    "version": 2
   },
   "file_extension": ".py",
   "mimetype": "text/x-python",
   "name": "python",
   "nbconvert_exporter": "python",
   "pygments_lexer": "ipython2",
   "version": "2.7.6"
  }
 },
 "nbformat": 4,
 "nbformat_minor": 0
}